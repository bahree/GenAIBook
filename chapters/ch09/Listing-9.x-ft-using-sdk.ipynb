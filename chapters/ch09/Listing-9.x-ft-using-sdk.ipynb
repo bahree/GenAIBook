{
 "cells": [
  {
   "cell_type": "markdown",
   "metadata": {},
   "source": [
    "# Step 1 - Load the data for fine-tuning\n",
    "Note, this assumes the files have gone through the basic checks as outlied earlier"
   ]
  },
  {
   "cell_type": "code",
   "execution_count": 16,
   "metadata": {},
   "outputs": [],
   "source": [
    "# Keys and environment variables\n",
    "\n",
    "import os\n",
    "import requests\n",
    "import json\n",
    "import time\n",
    "import openai\n",
    "from openai import AzureOpenAI\n",
    "\n",
    "api_key = os.getenv(\"AOAI_FT_KEY\") \n",
    "api_base =  os.getenv(\"AOAI_FT_ENDPOINT\")\n",
    "api_type = 'azure'\n",
    "api_version = '2023-09-15-preview' #This version or later is required for fine-tuning\n",
    "\n",
    "# openai.api_key = api_key\n",
    "# openai.api_base = api_base\n",
    "# openai.api_type = api_type\n",
    "# openai.api_version = api_version\n",
    "\n",
    "    \n",
    "client = AzureOpenAI(\n",
    "    api_key=api_key,  \n",
    "    api_version=api_version,\n",
    "    azure_endpoint = api_base\n",
    "    )\n"
   ]
  },
  {
   "cell_type": "code",
   "execution_count": null,
   "metadata": {},
   "outputs": [],
   "source": [
    "print(\"Endpoint:\", api_base)\n",
    "print(\"Key:\", api_key)\n"
   ]
  },
  {
   "cell_type": "code",
   "execution_count": 18,
   "metadata": {},
   "outputs": [
    {
     "name": "stdout",
     "output_type": "stream",
     "text": [
      "Response:\n",
      " FileObject(id='file-ca4c57d7ad814211a2db49e0382c5a77', bytes=73874, created_at=1700780969, filename='dog_emoji_FT_train.jsonl', object='file', purpose='fine-tune', status='pending', status_details=None, updated_at=1700780969)\n",
      "Training file ID: file-ca4c57d7ad814211a2db49e0382c5a77\n",
      "Training file name: dog_emoji_FT_train.jsonl\n"
     ]
    }
   ],
   "source": [
    "training_file_name = f'data/dog_emoji_FT_train.jsonl'\n",
    "\n",
    "\n",
    "# This is using v1 of the API which has breaking changes\n",
    "file = client.files.create(\n",
    "    file=open(training_file_name, \"rb\"),\n",
    "    purpose=\"fine-tune\"\n",
    ")\n",
    "\n",
    "print(\"Response:\\n\", file)\n",
    "\n",
    "print(\"Training file ID:\", file.id)\n",
    "print(\"Training file name:\", file.filename)\n",
    "\n"
   ]
  },
  {
   "cell_type": "code",
   "execution_count": 24,
   "metadata": {},
   "outputs": [
    {
     "name": "stdout",
     "output_type": "stream",
     "text": [
      "ada\n",
      "babbage\n",
      "babbage-002\n",
      "curie\n",
      "dall-e-3-3.0\n",
      "davinci\n",
      "davinci-002\n",
      "gpt-35-turbo-0301\n",
      "gpt-35-turbo-0613\n",
      "gpt-35-turbo-1106\n",
      "gpt-4-1106-Preview\n",
      "gpt-35-turbo-instruct-0914\n",
      "gpt-35-turbo-16k-0613\n",
      "gpt-4-0314\n",
      "gpt-4-0613\n",
      "gpt-4-32k-0314\n",
      "gpt-4-32k-0613\n",
      "text-davinci-003\n",
      "text-similarity-ada-001\n",
      "text-similarity-babbage-001\n",
      "text-similarity-curie-001\n",
      "text-similarity-davinci-001\n",
      "text-search-ada-doc-001\n",
      "text-search-ada-query-001\n",
      "text-search-babbage-doc-001\n",
      "text-search-babbage-query-001\n",
      "text-search-curie-doc-001\n",
      "text-search-curie-query-001\n",
      "text-search-davinci-doc-001\n",
      "text-search-davinci-query-001\n",
      "code-search-ada-code-001\n",
      "code-search-ada-text-001\n",
      "code-search-babbage-code-001\n",
      "code-search-babbage-text-001\n",
      "text-embedding-ada-002\n",
      "text-embedding-ada-002-2\n",
      "gptv-0329\n",
      "gpt-4v-1015\n",
      "dall-e-3\n",
      "gpt-35-turbo\n",
      "gpt-35-turbo-instruct\n",
      "gpt-35-turbo-16k\n",
      "gpt-4\n",
      "gpt-4-32k\n",
      "text-embedding-ada-002\n",
      "gpt-35-turbo-0613.ft-505d5a8bd321406dbf4605b636b0c0cd\n",
      "gpt-35-turbo-0613.ft-1a7faac8856d46e48a038c02555fe6e5\n"
     ]
    }
   ],
   "source": [
    "from openai import OpenAI\n",
    "\n",
    "models = client.models.list()\n",
    "for model in models:\n",
    "    print(model.id)"
   ]
  },
  {
   "cell_type": "code",
   "execution_count": 25,
   "metadata": {},
   "outputs": [
    {
     "name": "stdout",
     "output_type": "stream",
     "text": [
      "Finetuning job ID: ftjob-367ee1995af740a0bf24876221585f7a\n"
     ]
    }
   ],
   "source": [
    "#Training file ID: file-5559bb6d2c1945b9bd4dea82eb7ff02d\n",
    "#file-ca4c57d7ad814211a2db49e0382c5a77\n",
    "\n",
    "ft = client.fine_tuning.jobs.create(\n",
    "    training_file=\"file-ca4c57d7ad814211a2db49e0382c5a77\",\n",
    "    model=\"gpt-35-turbo-0613\",\n",
    "    hyperparameters={\n",
    "        \"n_epochs\":3\n",
    "    },\n",
    "    suffix=\"dog-emoji\"\n",
    ")\n",
    "\n",
    "print(\"Finetuning job ID:\", ft.id)"
   ]
  },
  {
   "cell_type": "code",
   "execution_count": 26,
   "metadata": {},
   "outputs": [
    {
     "name": "stdout",
     "output_type": "stream",
     "text": [
      "ftjob-367ee1995af740a0bf24876221585f7a pending\n",
      "ftjob-c41a9dc551834a1aa0be8befe788a22b running\n",
      "ftjob-1a7faac8856d46e48a038c02555fe6e5 succeeded\n",
      "ftjob-505d5a8bd321406dbf4605b636b0c0cd succeeded\n"
     ]
    }
   ],
   "source": [
    "# List all the FT jobs\n",
    "ft_jobs = client.fine_tuning.jobs.list()\n",
    "\n",
    "for ft_job in ft_jobs:\n",
    "    print(ft_job.id, ft_job.status)"
   ]
  },
  {
   "cell_type": "code",
   "execution_count": 27,
   "metadata": {},
   "outputs": [
    {
     "name": "stdout",
     "output_type": "stream",
     "text": [
      "ftevent-1e89dc7cc62046048bcea50de1cccbb9 Jobs ahead in queue: 1\n",
      "ftevent-42649f5c7677472f83eaa6cd4cde0dba Job enqueued. Waiting for jobs ahead to complete.\n"
     ]
    }
   ],
   "source": [
    "#List all the FT events for the job from earier - ftjob-367ee1995af740a0bf24876221585f7a\n",
    "ft_job_events = client.fine_tuning.jobs.list_events(\n",
    "    fine_tuning_job_id=\"ftjob-367ee1995af740a0bf24876221585f7a\", \n",
    "    limit=2\n",
    ")\n",
    "\n",
    "for ft_job_event in ft_job_events:\n",
    "    print(ft_job_event.id, ft_job_event.message)"
   ]
  },
  {
   "cell_type": "code",
   "execution_count": null,
   "metadata": {},
   "outputs": [],
   "source": [
    "# Track training status\n",
    "job = \"ftjob-367ee1995af740a0bf24876221585f7a\"\n",
    "\n",
    "from IPython.display import clear_output\n",
    "\n",
    "start_time = time.time()\n",
    "\n",
    "# Get the status of our fine-tuning job.\n",
    "ft_job = client.fine_tuning.jobs.retrieve(job)\n",
    "status = ft_job.status\n",
    "\n",
    "# If the job isn't done yet, poll it every 10 seconds.\n",
    "while status not in [\"succeeded\", \"failed\"]:\n",
    "    time.sleep(10)\n",
    "    \n",
    "    ft_job = client.fine_tuning.jobs.retrieve(job)\n",
    "    print(ft_job)\n",
    "    status = ft_job.status\n",
    "    print(\"Elapsed time: {} minutes {} seconds\".format(int((time.time() - start_time) // 60), int((time.time() - start_time) % 60)))\n",
    "    print(f'Status: {status}')\n",
    "\n",
    "    clear_output(wait=True)\n",
    "\n",
    "print(f'Fine-tuning job {job} finished with status: {status}')\n",
    "\n",
    "# List all fine-tuning jobs for this resource.\n",
    "print('Checking other fine-tune jobs for this resource.')\n",
    "# List all the FT jobs\n",
    "ft_jobs = client.fine_tuning.jobs.list()\n",
    "\n",
    "for ft_job in ft_jobs:\n",
    "    print(ft_job.id, ft_job.status)\n"
   ]
  }
 ],
 "metadata": {
  "kernelspec": {
   "display_name": "book",
   "language": "python",
   "name": "python3"
  },
  "language_info": {
   "codemirror_mode": {
    "name": "ipython",
    "version": 3
   },
   "file_extension": ".py",
   "mimetype": "text/x-python",
   "name": "python",
   "nbconvert_exporter": "python",
   "pygments_lexer": "ipython3",
   "version": "3.11.3"
  }
 },
 "nbformat": 4,
 "nbformat_minor": 2
}
